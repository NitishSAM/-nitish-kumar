{
  "nbformat": 4,
  "nbformat_minor": 0,
  "metadata": {
    "colab": {
      "name": "list",
      "provenance": [],
      "authorship_tag": "ABX9TyOb8YhZgZXozU2HAflyCDLL",
      "include_colab_link": true
    },
    "kernelspec": {
      "name": "python3",
      "display_name": "Python 3"
    },
    "language_info": {
      "name": "python"
    }
  },
  "cells": [
    {
      "cell_type": "markdown",
      "metadata": {
        "id": "view-in-github",
        "colab_type": "text"
      },
      "source": [
        "<a href=\"https://colab.research.google.com/github/NitishSAM/-nitish-kumar/blob/main/list.ipynb\" target=\"_parent\"><img src=\"https://colab.research.google.com/assets/colab-badge.svg\" alt=\"Open In Colab\"/></a>"
      ]
    },
    {
      "cell_type": "code",
      "execution_count": 24,
      "metadata": {
        "colab": {
          "base_uri": "https://localhost:8080/"
        },
        "id": "jrnPS7YrU588",
        "outputId": "769b3190-b567-48ee-e4e2-ded15998c5d4"
      },
      "outputs": [
        {
          "output_type": "stream",
          "name": "stdout",
          "text": [
            "['priya', 'ganesh', 'orange', 'balaji']\n",
            "<class 'list'>\n",
            "['priya', 'ganesh', 'orange', 'balaji', 'Reddy']\n",
            "Reddy\n",
            "['priya', 'ganesh', 'orange', 'balaji']\n",
            "['ganesh', 'orange', 'balaji']\n",
            "['ganesh', 'balaji']\n"
          ]
        }
      ],
      "source": [
        "#inserting elements into list\n",
        "names=[\"priya\",\"ganesh\",\"orange\",\"balaji\"]\n",
        "print(names)\n",
        "print(type(names))\n",
        "names.append(\"Reddy\")\n",
        "print(names)\n",
        "print(names[-1])\n",
        "names.pop()\n",
        "print(names)\n",
        "names.remove(\"priya\")\n",
        "print(names)\n",
        "del names[1]\n",
        "print(names)\n",
        "\n",
        "\n"
      ]
    },
    {
      "cell_type": "code",
      "source": [
        "names=[\"priya\",\"ganesh\",\"orange\",\"balaji\",\"reddy\",\"akhil\"]\n",
        "print(names[0:4])\n",
        "print(names[0:])\n",
        "print(names[:2])\n",
        "print(names[-4:-1])\n",
        "names.insert(2,\"jothi\")\n",
        "print(names)\n",
        "\n"
      ],
      "metadata": {
        "colab": {
          "base_uri": "https://localhost:8080/"
        },
        "id": "RXrVpwP_WES6",
        "outputId": "af5d58f6-a9a6-4243-c2dc-c70681aeaf80"
      },
      "execution_count": 39,
      "outputs": [
        {
          "output_type": "stream",
          "name": "stdout",
          "text": [
            "['priya', 'ganesh', 'orange', 'balaji']\n",
            "['priya', 'ganesh', 'orange', 'balaji', 'reddy', 'akhil']\n",
            "['priya', 'ganesh']\n",
            "['orange', 'balaji', 'reddy']\n",
            "['priya', 'ganesh', 'jothi', 'orange', 'balaji', 'reddy', 'akhil']\n"
          ]
        }
      ]
    },
    {
      "cell_type": "code",
      "source": [
        "names=[\"priya\",\"ganesh\",\"orange\",\"balaji\",\"reddy\",\"akhil\"]\n",
        "names.sort()"
      ],
      "metadata": {
        "colab": {
          "base_uri": "https://localhost:8080/",
          "height": 183
        },
        "id": "WDwzesu6gj9f",
        "outputId": "b31014d4-2c7c-403e-fa7b-165673be948b"
      },
      "execution_count": 43,
      "outputs": [
        {
          "output_type": "error",
          "ename": "TypeError",
          "evalue": "ignored",
          "traceback": [
            "\u001b[0;31m---------------------------------------------------------------------------\u001b[0m",
            "\u001b[0;31mTypeError\u001b[0m                                 Traceback (most recent call last)",
            "\u001b[0;32m<ipython-input-43-279ff442d468>\u001b[0m in \u001b[0;36m<module>\u001b[0;34m()\u001b[0m\n\u001b[1;32m      1\u001b[0m \u001b[0mnames\u001b[0m\u001b[0;34m=\u001b[0m\u001b[0;34m[\u001b[0m\u001b[0;34m\"priya\"\u001b[0m\u001b[0;34m,\u001b[0m\u001b[0;34m\"ganesh\"\u001b[0m\u001b[0;34m,\u001b[0m\u001b[0;34m\"orange\"\u001b[0m\u001b[0;34m,\u001b[0m\u001b[0;34m\"balaji\"\u001b[0m\u001b[0;34m,\u001b[0m\u001b[0;34m\"reddy\"\u001b[0m\u001b[0;34m,\u001b[0m\u001b[0;34m\"akhil\"\u001b[0m\u001b[0;34m]\u001b[0m\u001b[0;34m\u001b[0m\u001b[0;34m\u001b[0m\u001b[0m\n\u001b[0;32m----> 2\u001b[0;31m \u001b[0mnames\u001b[0m\u001b[0;34m.\u001b[0m\u001b[0msort\u001b[0m\u001b[0;34m(\u001b[0m\u001b[0;34m\"priya\"\u001b[0m\u001b[0;34m)\u001b[0m\u001b[0;34m\u001b[0m\u001b[0;34m\u001b[0m\u001b[0m\n\u001b[0m",
            "\u001b[0;31mTypeError\u001b[0m: sort() takes no positional arguments"
          ]
        }
      ]
    }
  ]
}