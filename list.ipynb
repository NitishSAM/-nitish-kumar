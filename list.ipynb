{
  "nbformat": 4,
  "nbformat_minor": 0,
  "metadata": {
    "colab": {
      "name": "list.ipynb",
      "provenance": [],
      "authorship_tag": "ABX9TyMQU0+ob1qW86A97zEau3Hg",
      "include_colab_link": true
    },
    "kernelspec": {
      "name": "python3",
      "display_name": "Python 3"
    },
    "language_info": {
      "name": "python"
    }
  },
  "cells": [
    {
      "cell_type": "markdown",
      "metadata": {
        "id": "view-in-github",
        "colab_type": "text"
      },
      "source": [
        "<a href=\"https://colab.research.google.com/github/NitishSAM/-nitish-kumar/blob/main/list.ipynb\" target=\"_parent\"><img src=\"https://colab.research.google.com/assets/colab-badge.svg\" alt=\"Open In Colab\"/></a>"
      ]
    },
    {
      "cell_type": "code",
      "execution_count": 4,
      "metadata": {
        "colab": {
          "base_uri": "https://localhost:8080/"
        },
        "id": "9GraB8cm4Kxf",
        "outputId": "60ec08d7-963e-409a-8db8-2912eab2a46f"
      },
      "outputs": [
        {
          "output_type": "stream",
          "name": "stdout",
          "text": [
            "('ganesh', 'vinay', 'praveen', 'sai', 'sneha', 'bobby')\n",
            "('nitish',)\n",
            "('nitish',)\n",
            "('nitish', 'sai')\n"
          ]
        }
      ],
      "source": [
        "list=(\"nitish\",\"ganesh\",\"vinay\",\"praveen\",\"sai\",\"sneha\",\"bobby\")\n",
        "print(list[1:])\n",
        "print(list[:1])\n",
        "print(list[0:2:4])\n",
        "print(list[::4])\n"
      ]
    },
    {
      "cell_type": "code",
      "source": [
        "list=[\"nitish\",\"orange\",\"vinay\"]\n",
        "list[1]=\"ganesh\"\n",
        "print(list)\n",
        "list.insert(2,\"jothi\")\n",
        "print(list)\n",
        "list[0:1]=\"priya\",\"swapna\"\n",
        "print(list)"
      ],
      "metadata": {
        "colab": {
          "base_uri": "https://localhost:8080/"
        },
        "id": "5gEKpdHh5vvA",
        "outputId": "26cf5242-545d-4a90-f2d7-62f4ee6fe80f"
      },
      "execution_count": 14,
      "outputs": [
        {
          "output_type": "stream",
          "name": "stdout",
          "text": [
            "['nitish', 'ganesh', 'vinay']\n",
            "['nitish', 'ganesh', 'jothi', 'vinay']\n",
            "['priya', 'swapna', 'ganesh', 'jothi', 'vinay']\n"
          ]
        }
      ]
    },
    {
      "cell_type": "code",
      "source": [
        "list=(\"nitish\",\"ganesh\",\"vinay\",\"praveen\",\"sai\",\"sneha\",\"bobby\")\n",
        "for x in list:\n",
        "  print(x)"
      ],
      "metadata": {
        "colab": {
          "base_uri": "https://localhost:8080/"
        },
        "id": "pdT1FmHb8QmG",
        "outputId": "e8780b65-f9e7-4780-9c2a-96e81287c7e0"
      },
      "execution_count": 17,
      "outputs": [
        {
          "output_type": "stream",
          "name": "stdout",
          "text": [
            "nitish\n",
            "ganesh\n",
            "vinay\n",
            "praveen\n",
            "sai\n",
            "sneha\n",
            "bobby\n"
          ]
        }
      ]
    },
    {
      "cell_type": "code",
      "source": [
        "list=(\"nitish\",\"ganesh\",\"vinay\",\"praveen\",\"sai\",\"sneha\",\"bobby\")\n",
        "for i in range (len(list)):\n",
        "  print(list[i])"
      ],
      "metadata": {
        "colab": {
          "base_uri": "https://localhost:8080/"
        },
        "id": "-78D7kxA8s8p",
        "outputId": "50bff7f4-b1a5-4d3a-b761-7e2e49a8bf10"
      },
      "execution_count": 22,
      "outputs": [
        {
          "output_type": "stream",
          "name": "stdout",
          "text": [
            "nitish\n",
            "ganesh\n",
            "vinay\n",
            "praveen\n",
            "sai\n",
            "sneha\n",
            "bobby\n"
          ]
        }
      ]
    },
    {
      "cell_type": "code",
      "source": [
        "list=(\"nitish\",\"ganesh\",\"vinay\",\"praveen\",\"sai\",\"sneha\",\"bobby\")\n",
        "i=0\n",
        "while i<len(list):\n",
        "  print(list[i])\n",
        "  i=i+1"
      ],
      "metadata": {
        "colab": {
          "base_uri": "https://localhost:8080/"
        },
        "id": "uiFORfH19aSH",
        "outputId": "c83ea38d-5f7b-49cd-a9e4-6d75219c1715"
      },
      "execution_count": 23,
      "outputs": [
        {
          "output_type": "stream",
          "name": "stdout",
          "text": [
            "nitish\n",
            "ganesh\n",
            "vinay\n",
            "praveen\n",
            "sai\n",
            "sneha\n",
            "bobby\n"
          ]
        }
      ]
    },
    {
      "cell_type": "code",
      "source": [
        "list=(\"nitish\",\"ganesh\",\"vinay\",\"praveen\",\"sai\",\"sneha\",\"bobby\")\n",
        "[print(x) for x in list]"
      ],
      "metadata": {
        "colab": {
          "base_uri": "https://localhost:8080/"
        },
        "id": "Ta5DjNHv9yvI",
        "outputId": "a22a46a9-92a0-496b-9251-772d9f13e0aa"
      },
      "execution_count": 27,
      "outputs": [
        {
          "output_type": "stream",
          "name": "stdout",
          "text": [
            "nitish\n",
            "ganesh\n",
            "vinay\n",
            "praveen\n",
            "sai\n",
            "sneha\n",
            "bobby\n"
          ]
        },
        {
          "output_type": "execute_result",
          "data": {
            "text/plain": [
              "[None, None, None, None, None, None, None]"
            ]
          },
          "metadata": {},
          "execution_count": 27
        }
      ]
    },
    {
      "cell_type": "code",
      "source": [
        "list=[\"nitish\",\"ganesh\",\"vinay\",\"praveen\",\"sai\",\"sneha\",\"bobby\"]\n",
        "newlist=[]\n",
        "for x in list:\n",
        "  if \"s\" in x:\n",
        "    newlist.append(x)\n",
        "    print(newlist)\n"
      ],
      "metadata": {
        "colab": {
          "base_uri": "https://localhost:8080/"
        },
        "id": "NXYzDQZ-Alxr",
        "outputId": "590357ce-8685-45ac-d320-30389da9e9a9"
      },
      "execution_count": 26,
      "outputs": [
        {
          "output_type": "stream",
          "name": "stdout",
          "text": [
            "['nitish']\n",
            "['nitish', 'ganesh']\n",
            "['nitish', 'ganesh', 'sai']\n",
            "['nitish', 'ganesh', 'sai', 'sneha']\n"
          ]
        }
      ]
    }
  ]
}